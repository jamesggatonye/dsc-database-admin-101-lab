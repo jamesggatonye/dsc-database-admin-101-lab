{
 "cells": [
  {
   "cell_type": "markdown",
   "metadata": {},
   "source": [
    "# Database Admin 101 - Lab\n",
    "\n",
    "## Introduction \n",
    "\n",
    "In this lab, you'll go through the process of designing and creating a database. From there, you'll begin to populate this table with mock data provided to you.\n",
    "\n",
    "## Objectives\n",
    "\n",
    "You will be able to:\n",
    "\n",
    "* Use knowledge of the structure of databases to create a database and populate it"
   ]
  },
  {
   "cell_type": "markdown",
   "metadata": {},
   "source": [
    "## The Scenario\n",
    "\n",
    "You are looking to design a database for a school that will house various information from student grades to contact information, class roster lists and attendance. First, think of how you would design such a database. What tables would you include? What columns would each table have? What would be the primary means to join said tables?"
   ]
  },
  {
   "cell_type": "markdown",
   "metadata": {},
   "source": [
    "## Creating the Database\n",
    "\n",
    "Now that you've put a little thought into how you might design your database, it's time to go ahead and create it! Start by import the necessary packages. Then, create a database called **school.sqlite**."
   ]
  },
  {
   "cell_type": "code",
   "execution_count": 1,
   "metadata": {},
   "outputs": [],
   "source": [
    "# Import necessary packages\n",
    "import pandas as pd\n",
    "import sqlite3\n"
   ]
  },
  {
   "cell_type": "code",
   "execution_count": 2,
   "metadata": {},
   "outputs": [
    {
     "name": "stdout",
     "output_type": "stream",
     "text": [
      "Database created successfully!\n"
     ]
    }
   ],
   "source": [
    "conn = sqlite3.connect(\"school.sqlite\")\n",
    "\n",
    "# create a cursor object - to interact with the database\n",
    "cur = conn.cursor()\n",
    "\n",
    "print(\"Database created successfully!\")"
   ]
  },
  {
   "cell_type": "markdown",
   "metadata": {},
   "source": [
    "## Create a Table for Contact Information\n",
    "\n",
    "Create a table called contactInfo to house contact information for both students and staff. Be sure to include columns for first name, last name, role (student/staff), telephone number, street, city, state, and zipcode. Be sure to also create a primary key for the table. "
   ]
  },
  {
   "cell_type": "code",
   "execution_count": 3,
   "metadata": {},
   "outputs": [
    {
     "name": "stdout",
     "output_type": "stream",
     "text": [
      "Table contactInfo created successfully.\n"
     ]
    }
   ],
   "source": [
    "cur.execute(\"\"\"\n",
    "CREATE TABLE IF NOT EXISTS contactInfo (\n",
    "    id INTEGER PRIMARY KEY AUTOINCREMENT,\n",
    "    first_name TEXT NOT NULL,\n",
    "    last_name TEXT NOT NULL,\n",
    "    role TEXT CHECK(role IN ('student', 'staff')) NOT NULL,\n",
    "    phone TEXT,\n",
    "    street TEXT,\n",
    "    city TEXT,\n",
    "    state TEXT,\n",
    "    zipcode TEXT\n",
    ");\n",
    "\"\"\")\n",
    "print(\"Table contactInfo created successfully.\")"
   ]
  },
  {
   "cell_type": "markdown",
   "metadata": {},
   "source": [
    "## Populate the Table\n",
    "\n",
    "Below, code is provided for you in order to load a list of dictionaries. Briefly examine the list. Each dictionary in the list will serve as an entry for your contact info table. Once you've briefly investigated the structure of this data, write a for loop to iterate through the list and create an entry in your table for each person's contact info."
   ]
  },
  {
   "cell_type": "code",
   "execution_count": 4,
   "metadata": {},
   "outputs": [],
   "source": [
    "# Load the list of dictionaries; just run this cell\n",
    "import pickle\n",
    "\n",
    "with open('contact_list.pickle', 'rb') as f:\n",
    "    contacts = pickle.load(f)"
   ]
  },
  {
   "cell_type": "code",
   "execution_count": 5,
   "metadata": {},
   "outputs": [
    {
     "name": "stdout",
     "output_type": "stream",
     "text": [
      "ContactInfo table populated successfully.\n"
     ]
    }
   ],
   "source": [
    "for contact in contacts:\n",
    "    cur.execute(\"\"\"\n",
    "    INSERT INTO contactInfo (first_name, last_name, role, phone, street, city, state, zipcode)\n",
    "    VALUES (?, ?, ?, ?, ?, ?, ?, ?);\n",
    "    \"\"\", (contact[\"firstName\"], contact[\"lastName\"], contact[\"role\"], \n",
    "          contact[\"telephone \"], contact[\"street\"], contact[\"city\"], \n",
    "          contact[\"state\"], contact[\"zipcode \"]))  \n",
    "\n",
    "print(\"ContactInfo table populated successfully.\")\n"
   ]
  },
  {
   "cell_type": "markdown",
   "metadata": {},
   "source": [
    "**Query the Table to Ensure it is populated**"
   ]
  },
  {
   "cell_type": "code",
   "execution_count": 15,
   "metadata": {},
   "outputs": [
    {
     "name": "stdout",
     "output_type": "stream",
     "text": [
      "\n",
      "Sample records from contactInfo table:\n",
      "(1, 'Christine', 'Holden', 'staff', '2035687697', '1672 Whitman Court', 'Stamford', 'CT', '06995')\n",
      "(2, 'Christopher', 'Warren', 'student', '2175150957', '1935 University Hill Road', 'Champaign', 'IL', '61938')\n",
      "(3, 'Linda', 'Jacobson', 'staff', '4049446441', '479 Musgrave Street', 'Atlanta', 'GA', '30303')\n",
      "(4, 'Andrew', 'Stepp', 'student', '7866419252', '2981 Lamberts Branch Road', 'Hialeah', 'Fl', '33012')\n",
      "(5, 'Jane', 'Evans', 'student', '3259909290', '1461 Briarhill Lane', 'Abilene', 'TX', '79602')\n"
     ]
    }
   ],
   "source": [
    "# Your code here \n",
    "cur.execute(\"SELECT * FROM contactInfo LIMIT 5;\")\n",
    "print(\"\\nSample records from contactInfo table:\")\n",
    "for row in cur.fetchall():\n",
    "    print(row)\n"
   ]
  },
  {
   "cell_type": "markdown",
   "metadata": {},
   "source": [
    "## Commit Your Changes to the Database\n",
    "\n",
    "Persist your changes by committing them to the database."
   ]
  },
  {
   "cell_type": "code",
   "execution_count": 16,
   "metadata": {},
   "outputs": [],
   "source": [
    "# Your code here\n",
    "conn.commit()"
   ]
  },
  {
   "cell_type": "markdown",
   "metadata": {},
   "source": [
    "## Create a Table for Student Grades\n",
    "\n",
    "Create a new table in the database called \"grades\". In the table, include the following fields: userId, courseId, grade.\n",
    "\n",
    "** This problem is a bit more tricky and will require a dual key. (A nuance you have yet to see.)\n",
    "Here's how to do that:\n",
    "\n",
    "```SQL\n",
    "CREATE TABLE table_name(\n",
    "   column_1 INTEGER NOT NULL,\n",
    "   column_2 INTEGER NOT NULL,\n",
    "   ...\n",
    "   PRIMARY KEY(column_1,column_2,...)\n",
    ");\n",
    "```"
   ]
  },
  {
   "cell_type": "code",
   "execution_count": 17,
   "metadata": {},
   "outputs": [
    {
     "name": "stdout",
     "output_type": "stream",
     "text": [
      "\n",
      "Table grades created successfully.\n"
     ]
    }
   ],
   "source": [
    "# Create the grades table\n",
    "cur.execute(\"\"\"\n",
    "CREATE TABLE IF NOT EXISTS grades (\n",
    "    userId INTEGER NOT NULL,\n",
    "    courseId INTEGER NOT NULL,\n",
    "    grade TEXT NOT NULL,\n",
    "    PRIMARY KEY (userId, courseId)\n",
    ");\n",
    "\"\"\")\n",
    "print(\"\\nTable grades created successfully.\")\n"
   ]
  },
  {
   "cell_type": "markdown",
   "metadata": {},
   "source": [
    "## Remove Duplicate Entries\n",
    "\n",
    "An analyst just realized that there is a duplicate entry in the contactInfo table! Find and remove it."
   ]
  },
  {
   "cell_type": "code",
   "execution_count": 18,
   "metadata": {},
   "outputs": [
    {
     "name": "stdout",
     "output_type": "stream",
     "text": [
      "\n",
      "Duplicate Entries Found:\n",
      "('Jane', 'Evans', 'student', 2)\n"
     ]
    }
   ],
   "source": [
    "# Find the duplicate entry\n",
    "cur.execute(\"\"\"\n",
    "SELECT first_name, last_name, role, COUNT(*) \n",
    "FROM contactInfo \n",
    "GROUP BY first_name, last_name, role \n",
    "HAVING COUNT(*) > 1;\n",
    "\"\"\")\n",
    "duplicates = cur.fetchall()\n",
    "\n",
    "if duplicates:\n",
    "    print(\"\\nDuplicate Entries Found:\")\n",
    "    for duplicate in duplicates:\n",
    "        print(duplicate)\n"
   ]
  },
  {
   "cell_type": "code",
   "execution_count": 19,
   "metadata": {},
   "outputs": [
    {
     "name": "stdout",
     "output_type": "stream",
     "text": [
      "\n",
      "Duplicate entries removed successfully.\n"
     ]
    }
   ],
   "source": [
    "# Delete the duplicate entry\n",
    "cur.execute(\"\"\"\n",
    "DELETE FROM contactInfo \n",
    "WHERE id NOT IN (\n",
    "        SELECT MIN(id) \n",
    "        FROM contactInfo \n",
    "        GROUP BY first_name, last_name, role\n",
    ");\n",
    "\"\"\")\n",
    "print(\"\\nDuplicate entries removed successfully.\")\n"
   ]
  },
  {
   "cell_type": "code",
   "execution_count": 20,
   "metadata": {},
   "outputs": [],
   "source": [
    "# Check that the duplicate entry was removed\n",
    "cur.execute(\"\"\"\n",
    "SELECT first_name, last_name, role, COUNT(*) \n",
    "FROM contactInfo \n",
    "GROUP BY first_name, last_name, role \n",
    "HAVING COUNT(*) > 1;\n",
    "\"\"\")\n",
    "duplicates = cur.fetchall()\n",
    "\n",
    "if duplicates:\n",
    "    print(\"\\nDuplicate Entries Found:\")\n",
    "    for duplicate in duplicates:\n",
    "        print(duplicate)\n"
   ]
  },
  {
   "cell_type": "markdown",
   "metadata": {},
   "source": [
    "## Updating an Address\n",
    "\n",
    "Ed Lyman just moved to `2910 Simpson Avenue York, PA 17403`. Update his address accordingly."
   ]
  },
  {
   "cell_type": "code",
   "execution_count": 21,
   "metadata": {},
   "outputs": [
    {
     "name": "stdout",
     "output_type": "stream",
     "text": [
      "\n",
      "Ed Lyman's address updated.\n"
     ]
    }
   ],
   "source": [
    "# Update Ed's address\n",
    "cur.execute(\"\"\"\n",
    "UPDATE contactInfo \n",
    "SET street = '2910 Simpson Avenue', city = 'York', state = 'PA', zipcode = '17403'\n",
    "WHERE first_name = 'Ed' AND last_name = 'Lyman';\n",
    "\"\"\")\n",
    "print(\"\\nEd Lyman's address updated.\")\n"
   ]
  },
  {
   "cell_type": "code",
   "execution_count": 22,
   "metadata": {},
   "outputs": [
    {
     "name": "stdout",
     "output_type": "stream",
     "text": [
      "\n",
      "Updated Record for Ed Lyman:\n",
      "('Ed', 'Lyman', '2910 Simpson Avenue', 'York', 'PA', '17403')\n"
     ]
    }
   ],
   "source": [
    "# Query the database to ensure the change was made\n",
    "cur.execute(\"\"\"\n",
    "SELECT first_name, last_name, street, city, state, zipcode \n",
    "FROM contactInfo \n",
    "WHERE first_name = 'Ed' AND last_name = 'Lyman';\n",
    "\"\"\")\n",
    "print(\"\\nUpdated Record for Ed Lyman:\")\n",
    "print(cur.fetchone())\n"
   ]
  },
  {
   "cell_type": "markdown",
   "metadata": {},
   "source": [
    "## Commit Your Changes to the Database\n",
    "\n",
    "Once again, persist your changes by committing them to the database."
   ]
  },
  {
   "cell_type": "code",
   "execution_count": null,
   "metadata": {},
   "outputs": [],
   "source": [
    "# Your code here\n",
    "conn.commit()"
   ]
  },
  {
   "cell_type": "markdown",
   "metadata": {},
   "source": [
    "## Summary\n",
    "\n",
    "While there's certainly more to do with setting up and managing this database, you got a taste for creating, populating, and maintaining databases! Feel free to continue fleshing out this exercise for more practice. "
   ]
  }
 ],
 "metadata": {
  "kernelspec": {
   "display_name": "Python 3 (ipykernel)",
   "language": "python",
   "name": "python3"
  },
  "language_info": {
   "codemirror_mode": {
    "name": "ipython",
    "version": 3
   },
   "file_extension": ".py",
   "mimetype": "text/x-python",
   "name": "python",
   "nbconvert_exporter": "python",
   "pygments_lexer": "ipython3",
   "version": "3.12.7"
  },
  "toc": {
   "base_numbering": 1,
   "nav_menu": {},
   "number_sections": true,
   "sideBar": true,
   "skip_h1_title": false,
   "title_cell": "Table of Contents",
   "title_sidebar": "Contents",
   "toc_cell": false,
   "toc_position": {},
   "toc_section_display": true,
   "toc_window_display": false
  }
 },
 "nbformat": 4,
 "nbformat_minor": 4
}
